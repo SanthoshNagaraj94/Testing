{
 "cells": [
  {
   "cell_type": "markdown",
   "id": "57a6ccbd",
   "metadata": {},
   "source": [
    "# Python Basic Exercise for Beginners\n"
   ]
  },
  {
   "cell_type": "markdown",
   "id": "c852e1ae",
   "metadata": {},
   "source": [
    "### Exercise 1: Calculate the multiplication and sum of two numbers\n",
    "    \n",
    "    \n",
    "Given two integer numbers return their product only if the product is greater than 1000, else return their sum.\n",
    "\n",
    "Given 1:\n",
    "\n",
    "number1 = 20\n",
    "number2 = 30\n",
    "\n",
    "\n",
    "Expected Output:\n",
    "\n",
    "The result is 600\n",
    "\n",
    "\n",
    "Given 2:\n",
    "\n",
    "number1 = 40\n",
    "number2 = 30\n",
    "\n",
    "Expected Output:\n",
    "\n",
    "The result is 70"
   ]
  },
  {
   "cell_type": "markdown",
   "id": "8cb4090c",
   "metadata": {},
   "source": [
    "HINT---->>>   Create a function that will take two numbers as parameters.\n",
    "Next, Inside a function, multiply two numbers and save their product in a product variable.\n",
    "Next, use the if condition to check if the product >1000. If yes, return the product.\n",
    "Otherwise, use the else block to calculate the sum of two numbers and return it."
   ]
  },
  {
   "cell_type": "code",
   "execution_count": null,
   "id": "c92eebbc",
   "metadata": {},
   "outputs": [],
   "source": [
    "def Exercise_1(x,y): # Don't Change this line\n",
    "    \n",
    "    #Do your code Here  \n",
    "\n",
    "    \n",
    "    \n",
    "    \n",
    "    \n",
    "    \n",
    "    \n",
    "    "
   ]
  },
  {
   "cell_type": "markdown",
   "id": "b03ce2e2",
   "metadata": {},
   "source": [
    "### Exercise 2: Print the sum of the current number and the previous number"
   ]
  },
  {
   "cell_type": "markdown",
   "id": "26075246",
   "metadata": {},
   "source": [
    "Write a program to iterate the first 10 numbers and in each iteration, print the sum of the current and previous number."
   ]
  },
  {
   "cell_type": "raw",
   "id": "f1ecf0e7",
   "metadata": {},
   "source": [
    "Expected Output:\n",
    "\n",
    "Printing current and previous number sum in a range(10)\n",
    "Current Number 0 Previous Number  0  Sum:  0\n",
    "Current Number 1 Previous Number  0  Sum:  1\n",
    "Current Number 2 Previous Number  1  Sum:  3\n",
    "Current Number 3 Previous Number  2  Sum:  5\n",
    "Current Number 4 Previous Number  3  Sum:  7\n",
    "Current Number 5 Previous Number  4  Sum:  9\n",
    "Current Number 6 Previous Number  5  Sum:  11\n",
    "Current Number 7 Previous Number  6  Sum:  13\n",
    "Current Number 8 Previous Number  7  Sum:  15\n",
    "Current Number 9 Previous Number  8  Sum:  17"
   ]
  },
  {
   "cell_type": "markdown",
   "id": "5313e7c4",
   "metadata": {},
   "source": [
    "HINT --->> Create a variable called previous_num and assign it to 0.\n",
    "Iterate the first 10 numbers one by one using for loop and range() function.\n",
    "Next, display the current number (i), previous number, and the addition of both numbers in each iteration of the loop. At last, change the value previous number to current number ( previous_num = i)."
   ]
  },
  {
   "cell_type": "code",
   "execution_count": null,
   "id": "fe2d8b33",
   "metadata": {},
   "outputs": [],
   "source": [
    "def Exercise_2(x): # Don't Change this line\n",
    "    \n",
    "    #Do your code Here  \n",
    "\n",
    "    \n",
    "    \n",
    "    \n",
    "    \n",
    "    \n",
    "    \n",
    "    "
   ]
  },
  {
   "cell_type": "markdown",
   "id": "b104811c",
   "metadata": {},
   "source": [
    "### Exercise 3: Print characters from a string that are present at an even index number"
   ]
  },
  {
   "cell_type": "markdown",
   "id": "a0b8a8dc",
   "metadata": {},
   "source": [
    "Write a program to accept a string from the user and display characters that are present at an even index number.\n",
    "\n",
    "For example, str = \"pynative\" so you should display ‘p’, ‘n’, ‘t’, ‘v’."
   ]
  },
  {
   "cell_type": "raw",
   "id": "c7498d09",
   "metadata": {},
   "source": [
    "Expected Output:\n",
    "\n",
    "Orginal String is  pynative\n",
    "Printing only even index chars\n",
    "p\n",
    "n\n",
    "t\n",
    "v"
   ]
  },
  {
   "cell_type": "markdown",
   "id": "d717db5d",
   "metadata": {},
   "source": [
    "HINT --->> Use Python input() function to accept a string from a user.\n",
    "Calculate the length of string using the len() function\n",
    "Next, iterate each character of a string using for loop and range() function.\n",
    "Use start = 0, stop = len(s)-1, and step =2. the step is 2 because we want only even index numbers\n",
    "in each iteration of a loop, use s[i] to print character present at current even index number"
   ]
  },
  {
   "cell_type": "code",
   "execution_count": null,
   "id": "9bbefa1b",
   "metadata": {},
   "outputs": [],
   "source": [
    "def Exercise_3(x): # Don't Change this line\n",
    "    \n",
    "    #Do your code Here  \n",
    "\n",
    "    \n",
    "    \n",
    "    \n",
    "    \n",
    "    \n",
    "    \n",
    "    "
   ]
  },
  {
   "cell_type": "markdown",
   "id": "3694d2d6",
   "metadata": {},
   "source": [
    "### Exercise 4: Remove first n characters from a string"
   ]
  },
  {
   "cell_type": "markdown",
   "id": "f22951c0",
   "metadata": {},
   "source": [
    "Write a program to remove characters from a string starting from zero up to n and return a new string."
   ]
  },
  {
   "cell_type": "markdown",
   "id": "f8a98a6d",
   "metadata": {},
   "source": [
    "For example:\n",
    "\n",
    "remove_chars(\"pynative\", 4) so output must be tive. Here we need to remove first four characters from a string.\n",
    "remove_chars(\"pynative\", 2) so output must be native. Here we need to remove first two characters from a string.\n",
    "\n",
    "Note: n must be less than the length of the string"
   ]
  },
  {
   "cell_type": "markdown",
   "id": "1c2a7538",
   "metadata": {},
   "source": [
    "HINT -->> Use string slicing to get the substring. For example, to remove the first four characters and the remeaning use s[4:]."
   ]
  },
  {
   "cell_type": "code",
   "execution_count": null,
   "id": "13e7f3c8",
   "metadata": {},
   "outputs": [],
   "source": [
    "def Exercise_4(x): # Don't Change this line\n",
    "    \n",
    "    #Do your code Here  \n",
    "\n",
    "    \n",
    "    \n",
    "    \n",
    "    \n",
    "    \n",
    "    \n",
    "    "
   ]
  },
  {
   "cell_type": "markdown",
   "id": "ed052073",
   "metadata": {},
   "source": [
    "### Exercise 5: Check if the first and last number of a list is the same"
   ]
  },
  {
   "cell_type": "markdown",
   "id": "871017da",
   "metadata": {},
   "source": [
    "Write a function to return True if the first and last number of a given list is same. If numbers are different then return False."
   ]
  },
  {
   "cell_type": "markdown",
   "id": "e2f9fd45",
   "metadata": {},
   "source": [
    "Given:\n",
    "\n",
    "numbers_x = [10, 20, 30, 40, 10]\n",
    ",numbers_y = [75, 65, 35, 75, 30]"
   ]
  },
  {
   "cell_type": "raw",
   "id": "e4bf347f",
   "metadata": {},
   "source": [
    "Expected Output:\n",
    "\n",
    "Given list: [10, 20, 30, 40, 10]\n",
    "result is True\n",
    "\n",
    "numbers_y = [75, 65, 35, 75, 30]\n",
    "result is False"
   ]
  },
  {
   "cell_type": "code",
   "execution_count": null,
   "id": "dd683f6e",
   "metadata": {},
   "outputs": [],
   "source": [
    "def Exercise_5(a,b): # Don't Change this line\n",
    "    \n",
    "    #Do your code Here  \n",
    "\n",
    "    \n",
    "    \n",
    "    \n",
    "    \n",
    "    \n",
    "    \n",
    "    "
   ]
  },
  {
   "cell_type": "markdown",
   "id": "ac348302",
   "metadata": {},
   "source": [
    "### Exercise 6: Display numbers divisible by 5 from a list\n"
   ]
  },
  {
   "cell_type": "markdown",
   "id": "d6b289f5",
   "metadata": {},
   "source": [
    "Iterate the given list of numbers and print only those numbers which are divisible by 5"
   ]
  },
  {
   "cell_type": "raw",
   "id": "aed7f07a",
   "metadata": {},
   "source": [
    "Expected Output:\n",
    "\n",
    "Given list is  [10, 20, 33, 46, 55]\n",
    "Divisible by 5\n",
    "10\n",
    "20\n",
    "55"
   ]
  },
  {
   "cell_type": "code",
   "execution_count": null,
   "id": "f5a9d432",
   "metadata": {},
   "outputs": [],
   "source": [
    "def Exercise_6(a): # Don't Change this line\n",
    "    \n",
    "    #Do your code Here  \n",
    "\n",
    "    \n",
    "    \n",
    "    \n",
    "    \n",
    "    \n",
    "    \n",
    "    "
   ]
  },
  {
   "cell_type": "markdown",
   "id": "52be125e",
   "metadata": {},
   "source": [
    "### Exercise 7: Return the count of a given substring from a string"
   ]
  },
  {
   "cell_type": "markdown",
   "id": "e24f31e5",
   "metadata": {},
   "source": [
    "Write a program to find how many times substring “Emma” appears in the given string.\n",
    "\n",
    "Given:\n",
    "    \n",
    "    str_x = \"Emma is good developer. Emma is a writer\""
   ]
  },
  {
   "cell_type": "raw",
   "id": "768f2fec",
   "metadata": {},
   "source": [
    "Expected Output:\n",
    "\n",
    "               Emma appeared 2 times"
   ]
  },
  {
   "cell_type": "markdown",
   "id": "b54afff6",
   "metadata": {},
   "source": [
    "HInt-->> Use string method count()."
   ]
  },
  {
   "cell_type": "code",
   "execution_count": null,
   "id": "20d89eea",
   "metadata": {},
   "outputs": [],
   "source": [
    "def Exercise_7(a): # Don't Change this line\n",
    "    \n",
    "    #Do your code Here  \n",
    "\n",
    "    \n",
    "    \n",
    "    \n",
    "    \n",
    "    \n",
    "    \n",
    "    "
   ]
  },
  {
   "cell_type": "markdown",
   "id": "870e6239",
   "metadata": {},
   "source": [
    "### Exercise 8: Print the following pattern:"
   ]
  },
  {
   "cell_type": "raw",
   "id": "051ba970",
   "metadata": {},
   "source": [
    "1 \n",
    "2 2 \n",
    "3 3 3 \n",
    "4 4 4 4 \n",
    "5 5 5 5 5\n",
    "\n",
    "\n",
    "\n",
    "\n",
    "Hint: Print Pattern using for loop"
   ]
  },
  {
   "cell_type": "code",
   "execution_count": null,
   "id": "e3d50c1b",
   "metadata": {},
   "outputs": [],
   "source": [
    "def Exercise_8(a): # Don't Change this line\n",
    "    \n",
    "    #Do your code Here  \n",
    "\n",
    "    \n",
    "    \n",
    "    \n",
    "    \n",
    "    \n",
    "    \n",
    "    "
   ]
  },
  {
   "cell_type": "markdown",
   "id": "39daea40",
   "metadata": {},
   "source": [
    "### Exercise 9: Check Palindrome Number"
   ]
  },
  {
   "cell_type": "markdown",
   "id": "1f43a319",
   "metadata": {},
   "source": [
    "Write a program to check if the given number is a palindrome number.\n",
    "\n",
    "A palindrome number is a number that is same after reverse. For example 545, is the palindrome numbers"
   ]
  },
  {
   "cell_type": "raw",
   "id": "7fca0421",
   "metadata": {},
   "source": [
    "Expected Output:\n",
    "\n",
    "original number 121\n",
    "Yes. given number is palindrome number\n",
    "\n",
    "original number 125\n",
    "No. given number is not palindrome number"
   ]
  },
  {
   "cell_type": "raw",
   "id": "603d3fc2",
   "metadata": {},
   "source": [
    "HINT--->> Reverse the given number and save it in a different variable\n",
    "Use the if condition to check if the original number and reverse number are the same. If yes, return True."
   ]
  },
  {
   "cell_type": "code",
   "execution_count": null,
   "id": "6e347887",
   "metadata": {},
   "outputs": [],
   "source": [
    "def Exercise_9(a): # Don't Change this line\n",
    "    \n",
    "    #Do your code Here  \n",
    "\n",
    "    \n",
    "    \n",
    "    \n",
    "    \n",
    "    \n",
    "    \n",
    "    "
   ]
  },
  {
   "cell_type": "markdown",
   "id": "28250873",
   "metadata": {},
   "source": [
    "### Exercise 10: Create a new list from a two list using the following condition"
   ]
  },
  {
   "cell_type": "markdown",
   "id": "aad86da4",
   "metadata": {},
   "source": [
    "Create a new list from a two list using the following condition\n",
    "\n",
    "Given a two list of numbers, write a program to create a new list such that the new list should contain odd numbers from the first list and even numbers from the second list."
   ]
  },
  {
   "cell_type": "raw",
   "id": "c1bf18c1",
   "metadata": {},
   "source": [
    "Given:\n",
    "\n",
    "list1 = [10, 20, 25, 30, 35]\n",
    "list2 = [40, 45, 60, 75, 90]\n",
    "Expected Output:\n",
    "\n",
    "result list: [25, 35, 40, 60, 90]"
   ]
  },
  {
   "cell_type": "markdown",
   "id": "15156d98",
   "metadata": {},
   "source": [
    "HINT:\n",
    "Create an empty list named result_list.Iterate first list using a for loop.\n",
    "In each iteration, check if the current number is odd number using num % 2 != 0 formula. If the current number is an odd number, add it to the result listNow, Iterate the first list using a loop.In each iteration, check if the current number is odd number using num % 2 == 0 formula. If the current number is an even number, add it to the result list\n",
    "print the result list."
   ]
  },
  {
   "cell_type": "code",
   "execution_count": null,
   "id": "f18902b0",
   "metadata": {},
   "outputs": [],
   "source": [
    "def Exercise_10(a,z): # Don't Change this line\n",
    "    \n",
    "    #Do your code Here  \n",
    "\n",
    "    \n",
    "    \n",
    "    \n",
    "    \n",
    "    \n",
    "    "
   ]
  },
  {
   "cell_type": "markdown",
   "id": "0a6ba052",
   "metadata": {},
   "source": [
    "### Exercise 11: Write a Program to extract each digit from an integer in the reverse order.\n"
   ]
  },
  {
   "cell_type": "markdown",
   "id": "8839e14b",
   "metadata": {},
   "source": [
    "For example, If the given int is 7536, the output shall be “6 3 5 7“, with a space separating the digits."
   ]
  },
  {
   "cell_type": "code",
   "execution_count": null,
   "id": "dfb8af65",
   "metadata": {},
   "outputs": [],
   "source": [
    "def Exercise_11(z): # Don't Change this line\n",
    "    \n",
    "    #Do your code Here  \n",
    "\n",
    "    \n",
    "    \n",
    "    \n",
    "    \n",
    "    \n",
    "    "
   ]
  },
  {
   "cell_type": "markdown",
   "id": "6daa5aa9",
   "metadata": {},
   "source": [
    "### Exercise 12: Calculate income tax for the given income by adhering to the below rules\n",
    "\n"
   ]
  },
  {
   "cell_type": "raw",
   "id": "4ba0e1b6",
   "metadata": {},
   "source": [
    "Taxable Income\tRate (in %)\n",
    "\n",
    "First $10,000\t0\n",
    "Next $10,000\t10\n",
    "The remaining\t20"
   ]
  },
  {
   "cell_type": "markdown",
   "id": "563972a1",
   "metadata": {},
   "source": [
    "#### Expected Output:"
   ]
  },
  {
   "cell_type": "raw",
   "id": "949e7e97",
   "metadata": {},
   "source": [
    "For example, suppose the taxable income is 45000 the income tax payable is\n",
    "\n",
    "10000*0% + 10000*10%  + 25000*20% = $6000."
   ]
  },
  {
   "cell_type": "code",
   "execution_count": null,
   "id": "6be1c4a7",
   "metadata": {},
   "outputs": [],
   "source": [
    "def Exercise_12(z): # Don't Change this line\n",
    "    \n",
    "    #Do your code Here  \n",
    "\n",
    "    \n",
    "    \n",
    "    \n",
    "    \n",
    "    \n",
    "    "
   ]
  },
  {
   "cell_type": "markdown",
   "id": "57a72808",
   "metadata": {},
   "source": [
    "### Exercise 13: Print multiplication table form 1 to 10\n"
   ]
  },
  {
   "cell_type": "markdown",
   "id": "deaae092",
   "metadata": {},
   "source": [
    "#### Expected Output:\n",
    "\n"
   ]
  },
  {
   "cell_type": "raw",
   "id": "86bbc13d",
   "metadata": {},
   "source": [
    "1  2 3 4 5 6 7 8 9 10 \t\t\n",
    "2  4 6 8 10 12 14 16 18 20 \t\t\n",
    "3  6 9 12 15 18 21 24 27 30 \t\t\n",
    "4  8 12 16 20 24 28 32 36 40 \t\t\n",
    "5  10 15 20 25 30 35 40 45 50 \t\t\n",
    "6  12 18 24 30 36 42 48 54 60 \t\t\n",
    "7  14 21 28 35 42 49 56 63 70 \t\t\n",
    "8  16 24 32 40 48 56 64 72 80 \t\t\n",
    "9  18 27 36 45 54 63 72 81 90 \t\t\n",
    "10 20 30 40 50 60 70 80 90 100 "
   ]
  },
  {
   "cell_type": "markdown",
   "id": "5a32205e",
   "metadata": {},
   "source": [
    "HINT:\n",
    "    Create the outer for loop to iterate numbers from 1 to 10. So total number of iteration of the outer loop is 10.\n",
    "Create a inner loop to iterate 10 times.\n",
    "For each iteration of the outer loop, the inner loop will execute ten times.\n",
    "In the first iteration of the nested loop, the number is 1. In the next, it 2. and so on till 10.\n",
    "In each iteration of an inner loop, we calculated the multiplication of two numbers. (current outer number and curent inner number)"
   ]
  },
  {
   "cell_type": "code",
   "execution_count": null,
   "id": "6036c52f",
   "metadata": {},
   "outputs": [],
   "source": [
    "def Exercise_13(z): # Don't Change this line\n",
    "    \n",
    "    #Do your code Here  \n",
    "\n",
    "    \n",
    "    \n",
    "    \n",
    "    \n",
    "    \n",
    "    "
   ]
  },
  {
   "cell_type": "markdown",
   "id": "d2a26392",
   "metadata": {},
   "source": [
    "### Exercise 14: Print downward Half-Pyramid Pattern with Star (asterisk)"
   ]
  },
  {
   "cell_type": "raw",
   "id": "30718366",
   "metadata": {},
   "source": [
    "* * * * *  \n",
    "* * * *  \n",
    "* * *  \n",
    "* *  \n",
    "*"
   ]
  },
  {
   "cell_type": "raw",
   "id": "d5d16bd3",
   "metadata": {},
   "source": [
    "Hint: Print Pattern using for loop"
   ]
  },
  {
   "cell_type": "code",
   "execution_count": null,
   "id": "c2f54dc1",
   "metadata": {},
   "outputs": [],
   "source": [
    "def Exercise_14(z): # Don't Change this line\n",
    "    \n",
    "    #Do your code Here  \n",
    "    \n",
    "    \n",
    "    \n",
    "    \n",
    "    \n",
    "    \n",
    "    \n",
    "    \n",
    "    \n",
    "    "
   ]
  },
  {
   "cell_type": "markdown",
   "id": "a28010b7",
   "metadata": {},
   "source": [
    "### Exercise 15: Write a function called exponent(base, exp) that returns an int value of base raises to the power of exp.\n"
   ]
  },
  {
   "cell_type": "markdown",
   "id": "07d0a978",
   "metadata": {},
   "source": [
    "Note here exp is a non-negative integer, and the base is an integer."
   ]
  },
  {
   "cell_type": "raw",
   "id": "b261605c",
   "metadata": {},
   "source": [
    "Expected output\n",
    "\n",
    "Case 1:\n",
    "\n",
    "base = 2\n",
    "exponent = 5\n",
    "\n",
    "2 raises to the power of 5: 32 i.e. (2 *2 * 2 *2 *2 = 32)\n",
    "Case 2:\n",
    "\n",
    "base = 5\n",
    "exponent = 4\n",
    "\n",
    "5 raises to the power of 4 is: 625 \n",
    "i.e. (5 *5 * 5 *5 = 625)"
   ]
  },
  {
   "cell_type": "code",
   "execution_count": null,
   "id": "d5ceeef6",
   "metadata": {},
   "outputs": [],
   "source": [
    "def Exercise_15(z): # Don't Change this line\n",
    "    \n",
    "    #Do your code Here \n",
    "    \n",
    "    \n",
    "    \n",
    "    \n",
    "    \n",
    "    \n",
    "    \n",
    "    \n",
    "    "
   ]
  }
 ],
 "metadata": {
  "kernelspec": {
   "display_name": "Python 3 (ipykernel)",
   "language": "python",
   "name": "python3"
  },
  "language_info": {
   "codemirror_mode": {
    "name": "ipython",
    "version": 3
   },
   "file_extension": ".py",
   "mimetype": "text/x-python",
   "name": "python",
   "nbconvert_exporter": "python",
   "pygments_lexer": "ipython3",
   "version": "3.9.7"
  }
 },
 "nbformat": 4,
 "nbformat_minor": 5
}
